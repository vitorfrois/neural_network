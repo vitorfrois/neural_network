{
  "nbformat": 4,
  "nbformat_minor": 0,
  "metadata": {
    "colab": {
      "provenance": [],
      "collapsed_sections": []
    },
    "kernelspec": {
      "name": "python3",
      "display_name": "Python 3"
    },
    "language_info": {
      "name": "python"
    }
  },
  "cells": [
    {
      "cell_type": "code",
      "source": [
        "data = pd.read_csv('sample_data/mnist_train_small.csv')\n",
        "data = np.array(data)\n",
        "m, n = data.shape\n",
        "np.random.shuffle(data)\n",
        "data_test = data[0:1000].T\n",
        "X_test = data_test[1:n].T\n",
        "Y_test = data_test[0].T\n",
        "\n",
        "data_train = data[1000:m].T \n",
        "Y_train = data_train[0].T\n",
        "X_train = data_train[1:n].T"
      ],
      "metadata": {
        "id": "7epiAtX1pZ-w"
      },
      "execution_count": null,
      "outputs": []
    },
    {
      "cell_type": "code",
      "source": [
        "!pip install gradio"
      ],
      "metadata": {
        "id": "3Thqft0eRlgb"
      },
      "execution_count": null,
      "outputs": []
    },
    {
      "cell_type": "code",
      "execution_count": null,
      "metadata": {
        "id": "U3Xm5woMpGRz"
      },
      "outputs": [],
      "source": [
        "import numpy as np\n",
        "import sympy as sp\n",
        "import pandas as pd\n",
        "import gradio"
      ]
    },
    {
      "cell_type": "code",
      "source": [
        "def one_hot(i, size):\n",
        "    arr = np.zeros(size)\n",
        "    arr[i] = 1\n",
        "    return arr"
      ],
      "metadata": {
        "id": "AB2MtY8FpeP4"
      },
      "execution_count": null,
      "outputs": []
    },
    {
      "cell_type": "code",
      "source": [
        "def wrap_image(m):\n",
        "    return m/255"
      ],
      "metadata": {
        "id": "1sIITO0o94Ol"
      },
      "execution_count": null,
      "outputs": []
    },
    {
      "cell_type": "code",
      "source": [
        "def softmax(x):\n",
        "    return np.exp(x) / np.sum(np.exp(x), axis=0)"
      ],
      "metadata": {
        "id": "z0_woNyV97AO"
      },
      "execution_count": null,
      "outputs": []
    },
    {
      "cell_type": "code",
      "source": [
        "def mnistize(img):\n",
        "    img = img.reshape(1, 28, 28, 1)\n",
        "    img = img.flatten()\n",
        "    img = np.absolute(img-255)\n",
        "    return img"
      ],
      "metadata": {
        "id": "0Kn_A2BPQ39x"
      },
      "execution_count": null,
      "outputs": []
    },
    {
      "cell_type": "code",
      "source": [
        "class Layer:\n",
        "    def __init__(self, layerM, layerN, c):\n",
        "        self.c = 0.005\n",
        "        self.Zl = np.empty((layerN, 1), dtype=float)\n",
        "        self.w = np.random.rand(layerM, layerN) - 0.5\n",
        "        self.b = np.random.rand(layerM, 1) - 0.5\n",
        "\n",
        "    def tanh(self,m):\n",
        "        return np.tanh(m)\n",
        "\n",
        "    def tanh_diff(self,m):\n",
        "        return 1 - (np.tanh(m)**2)\n",
        "\n",
        "    def forward(self, a1):\n",
        "        self.Zl = (np.matmul(self.w, a1))\n",
        "        self.Zl = (self.Zl).reshape(10,1)\n",
        "        self.Zl += self.b\n",
        "        return self.tanh(self.Zl)\n",
        "\n",
        "    def computate_weights(self, a1, a2, v):\n",
        "        dZ = 2*self.tanh_diff(self.Zl) * (a2-v)\n",
        "        dZ = dZ.T\n",
        "        dW = np.matmul(a1, dZ)\n",
        "        dB = dZ\n",
        "        return dW, dB\n",
        "\n",
        "    def backward(self, a1, a2, v):\n",
        "        dW, dB = self.computate_weights(a1, a2, v)\n",
        "        self.w -= dW.T*self.c\n",
        "        self.b -= dB.T*self.c\n"
      ],
      "metadata": {
        "id": "cc8hWpv5pkTL"
      },
      "execution_count": null,
      "outputs": []
    },
    {
      "cell_type": "code",
      "source": [
        "class Network:\n",
        "    layers = 1\n",
        "    def __init__(self, layer_size, n, c):    \n",
        "        self.layer = Layer(layer_size, n, c)\n",
        "        self.output = np.empty((10,1), dtype=float)\n",
        "        self.loss = 0\n",
        "\n",
        "    def forward_pass(self, a1):\n",
        "        self.output = self.layer.forward(a1)\n",
        "        # print(\"a2 = \", self.output)\n",
        "\n",
        "    def computate_loss(self, activation, validation):\n",
        "        return np.sum((activation-validation)**2)\n",
        "\n",
        "    def backward_pass(self, a1, a2, v):\n",
        "        self.layer.backward(a1, a2, v)\n",
        "\n",
        "    def train(self, X_train, Y_train):\n",
        "        for j in range(10):\n",
        "            for i in range(X_train.shape[0]):\n",
        "                self.forward_pass(X_train[i])\n",
        "                y = one_hot(Y_train[i], 10).reshape(10, 1)\n",
        "                # print(\"y = \", y)\n",
        "                # print(\"Loss = \", self.computate_loss(self.output, y))\n",
        "                self.backward_pass(X_train[i].reshape(784,1), self.output, y)\n",
        "\n",
        "    def testNN(self, X_test, Y_test):\n",
        "        hit = 0\n",
        "        for i in range(1000):\n",
        "            a2 = self.layer.forward(X_test[i])\n",
        "            # print(a2)\n",
        "            sm = softmax(a2)\n",
        "            index = np.argmax(sm)\n",
        "            if(index == Y_test[i]):\n",
        "                hit += 1\n",
        "            # else:\n",
        "            #     print(Y_test[i], \"; meu chute = \", index)\n",
        "        return (hit * 100)/1000\n",
        "\n",
        "    def predict(self, img):\n",
        "        img = mnistize(img)\n",
        "        a2 = self.layer.forward(img)\n",
        "        sm = softmax(a2)\n",
        "        return {str(i): sm[i] for i in range(10)}\n"
      ],
      "metadata": {
        "id": "ehtfvF3rqDfN"
      },
      "execution_count": null,
      "outputs": []
    },
    {
      "cell_type": "code",
      "source": [
        "n = Network(10, 784, 0.005)\n",
        "n.train(X_train, Y_train)"
      ],
      "metadata": {
        "id": "Z5rcjerXqJes"
      },
      "execution_count": null,
      "outputs": []
    },
    {
      "cell_type": "code",
      "source": [
        "output_component = gradio.outputs.Label(num_top_classes=3)"
      ],
      "metadata": {
        "colab": {
          "base_uri": "https://localhost:8080/"
        },
        "id": "W9jTRHGGrtT5",
        "outputId": "521a6f15-d11e-4ea2-e66a-6458469e0f04"
      },
      "execution_count": null,
      "outputs": [
        {
          "output_type": "stream",
          "name": "stderr",
          "text": [
            "/usr/local/lib/python3.7/dist-packages/gradio/outputs.py:197: UserWarning: Usage of gradio.outputs is deprecated, and will not be supported in the future, please import your components from gradio.components\n",
            "  \"Usage of gradio.outputs is deprecated, and will not be supported in the future, please import your components from gradio.components\",\n",
            "/usr/local/lib/python3.7/dist-packages/gradio/deprecation.py:40: UserWarning: The 'type' parameter has been deprecated. Use the Number component instead.\n",
            "  warnings.warn(value)\n"
          ]
        }
      ]
    },
    {
      "cell_type": "code",
      "source": [
        "gradio.Interface(fn=n.predict,\n",
        "        inputs=\"sketchpad\",\n",
        "        outputs=\"label\",\n",
        "        debug=True,\n",
        "        live=True).launch(share=True)"
      ],
      "metadata": {
        "id": "79n0zlQ8-itH",
        "colab": {
          "base_uri": "https://localhost:8080/",
          "height": 714
        },
        "outputId": "2edc306b-6625-4ee1-f9fb-a6d17cbecb41"
      },
      "execution_count": null,
      "outputs": [
        {
          "output_type": "stream",
          "name": "stderr",
          "text": [
            "/usr/local/lib/python3.7/dist-packages/gradio/deprecation.py:44: UserWarning: You have unused kwarg parameters in Interface, please remove them: {'debug': True}\n",
            "  f\"You have unused kwarg parameters in {cls}, please remove them: {kwargs}\"\n"
          ]
        },
        {
          "output_type": "stream",
          "name": "stdout",
          "text": [
            "Hint: Set streaming=True for Sketchpad component to use live streaming.\n",
            "Colab notebook detected. To show errors in colab notebook, set `debug=True` in `launch()`\n",
            "Running on public URL: https://10283.gradio.app\n",
            "\n",
            "This share link expires in 72 hours. For free permanent hosting, check out Spaces: https://huggingface.co/spaces\n"
          ]
        },
        {
          "output_type": "display_data",
          "data": {
            "text/plain": [
              "<IPython.core.display.HTML object>"
            ],
            "text/html": [
              "<div><iframe src=\"https://10283.gradio.app\" width=\"900\" height=\"500\" allow=\"autoplay; camera; microphone;\" frameborder=\"0\" allowfullscreen></iframe></div>"
            ]
          },
          "metadata": {}
        },
        {
          "output_type": "execute_result",
          "data": {
            "text/plain": [
              "(<gradio.routes.App at 0x7f3387aafed0>,\n",
              " 'http://127.0.0.1:7862/',\n",
              " 'https://10283.gradio.app')"
            ]
          },
          "metadata": {},
          "execution_count": 22
        }
      ]
    },
    {
      "cell_type": "code",
      "source": [],
      "metadata": {
        "id": "VlOY46CLSCZU"
      },
      "execution_count": null,
      "outputs": []
    }
  ]
}